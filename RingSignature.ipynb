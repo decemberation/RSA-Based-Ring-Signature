{
  "cells": [
    {
      "cell_type": "markdown",
      "metadata": {
        "id": "Sk3LTzkpAPa7"
      },
      "source": [
        "## **Ring Signature Implementation (RSA Version)**\n",
        "\n",
        "Based on the paper \"How to leak a secret\" by Ronald L. Rivest, Adi Shamir, and Yael Tauman"
      ]
    },
    {
      "cell_type": "markdown",
      "metadata": {
        "id": "wtohQDXyRDqD"
      },
      "source": [
        "\n",
        "\n",
        "*   Install ***pycrypto*** module\n"
      ]
    },
    {
      "cell_type": "code",
      "execution_count": null,
      "metadata": {
        "colab": {
          "base_uri": "https://localhost:8080/"
        },
        "id": "HA-AahtsyHH4",
        "outputId": "b887064c-9799-44af-9d52-4b18758494a8"
      },
      "outputs": [
        {
          "name": "stdout",
          "output_type": "stream",
          "text": [
            "Looking in indexes: https://pypi.org/simple, https://us-python.pkg.dev/colab-wheels/public/simple/\n",
            "Collecting pycrypto\n",
            "  Downloading pycrypto-2.6.1.tar.gz (446 kB)\n",
            "\u001b[K     |████████████████████████████████| 446 kB 7.1 MB/s \n",
            "\u001b[?25hBuilding wheels for collected packages: pycrypto\n",
            "  Building wheel for pycrypto (setup.py) ... \u001b[?25l\u001b[?25hdone\n",
            "  Created wheel for pycrypto: filename=pycrypto-2.6.1-cp37-cp37m-linux_x86_64.whl size=499932 sha256=5a074abcbc42bd8fb56f29dba41939435d0735d52daa77aa21422e8c50228bae\n",
            "  Stored in directory: /root/.cache/pip/wheels/cf/85/ba/bbd7c96add459de7598fb424e5ff2309baf2095c844ac0f191\n",
            "Successfully built pycrypto\n",
            "Installing collected packages: pycrypto\n",
            "Successfully installed pycrypto-2.6.1\n"
          ]
        }
      ],
      "source": [
        "pip install pycrypto"
      ]
    },
    {
      "cell_type": "markdown",
      "metadata": {
        "id": "KWUB6UfpRPyR"
      },
      "source": [
        "\n",
        "\n",
        "*   Import necessary modules\n",
        "\n"
      ]
    },
    {
      "cell_type": "code",
      "execution_count": null,
      "metadata": {
        "id": "dgSWCe0VyWh2"
      },
      "outputs": [],
      "source": [
        "import os\n",
        "import hashlib              # Hash module\n",
        "import random               # Module random dùng để lấy giá trị ngẫu nhiên\n",
        "import Crypto.PublicKey.RSA # Implement RSA bằng module Crypto\n",
        "import time                 # Module time dùng để đo runtime của hàm\n",
        "import functools            # Functools để dùng các hàm hỗ trợ như map(), reduce(),..."
      ]
    },
    {
      "cell_type": "markdown",
      "metadata": {
        "id": "qtd-KfV9BiqU"
      },
      "source": [
        "- Each ring member holds a RSA public key: P = (n, e)\n",
        "*   Define the Ring class and methods\n",
        "* Symmetric Encryption Function reference to: https://gist.github.com/topcode4u/5988067\n"
      ]
    },
    {
      "cell_type": "code",
      "execution_count": null,
      "metadata": {
        "id": "BnmrpaAdyYHI"
      },
      "outputs": [],
      "source": [
        "class Ring:\n",
        "    def __init__(self, k, L: int = 1024) -> None:\n",
        "        self.k = k                                # Khởi tạo khóa k\n",
        "        self.l = L\n",
        "        self.n = len(k)                           # Số key (ring member)\n",
        "        self.q = 1 << (L - 1)                     # Khi tính ra x của người ký sẽ có trường hợp > n của RSA, nếu lớn hơn thì khi chạy hàm verify sẽ không truy ngược lại x của người ký được\n",
        "\n",
        "    def ring_sign(self, m: str, z: int):\n",
        "        st = time.time()                          # start time\n",
        "\n",
        "        self._hash(m)                             # k = H(m)\n",
        "        x = [None] * self.n                       # x = [None, None,..., None], mảng rỗng dùng để chứa các giá trị x ngẫu nhiên thuộc {0,1}b\n",
        "        u = random.randint(0, self.q)             # Chọn ngẫu nhiên giá trị khởi đầu (giá trị keo) u thuộc {0,1}b\n",
        "        c = v = self._E(u)                        # Tạo biến chữ ký và biến tạm để dùng cho combining function\n",
        "\n",
        "        first_range = list(range(z + 1, self.n))  # first range = [z + 1, ..., n -1]\n",
        "        second_range = list(range(z))             # second range = [0, 1, 2, ..., z - 1]\n",
        "        whole_range = first_range + second_range\n",
        "\n",
        "        for i in whole_range:\n",
        "            x[i] = random.randint(0, self.q)      # Chọn giá trị xi ngẫu nhiên cho các thành viên trong vòng\n",
        "            y = self._g(x[i], self.k[i].e, self.k[i].n)\n",
        "            v = self._E(v ^ y)                    \n",
        "            if (i + 1) % self.n == 0:\n",
        "                c = v\n",
        "\n",
        "        # Tính x của người ký bằng reverse trapdoor function: xs = g^-1(ys)\n",
        "        x[z] = self._g(v ^ u, self.k[z].d, self.k[z].n)\n",
        "\n",
        "        et = time.time()                          # end time\n",
        "        exec_time = et - st                       # execution time\n",
        "        print('Executed in: ', exec_time*1000, 'ms')\n",
        "        return [c] + x\n",
        "\n",
        "    def ring_verify(self, m: str, X) -> bool:\n",
        "        st = time.time()                          # start time\n",
        "        self._hash(m)                             # k = H(m)\n",
        "\n",
        "        # yi = gi(xi)\n",
        "        def _f(i):\n",
        "            return self._g(X[i + 1], self.k[i].e, self.k[i].n)\n",
        "\n",
        "        y = map(_f, range(len(X) - 1))\n",
        "        y = list(y)\n",
        "\n",
        "        def _g(x, i):\n",
        "            return self._E(x ^ y[i])\n",
        "        # Verify nếu biểu thức vòng đúng bằng giá trị v\n",
        "        r = functools.reduce(_g, range(self.n), X[0])\n",
        "        et = time.time()                          # end time\n",
        "        exec_time = et - st                       # execution time\n",
        "        print('Verified in: ', exec_time*1000, 'ms')\n",
        "        return r == X[0]\n",
        "\n",
        "    def _hash(self, m):                         # Hàm băm H()\n",
        "        msg = m.encode(\"utf-8\")\n",
        "        self.p = int(hashlib.sha256(msg).hexdigest(), 16)  # khóa k\n",
        "\n",
        "    def _E(self, x):                            # Combining function\n",
        "        msg = f\"{x}{self.p}\".encode(\"utf-8\")\n",
        "        return int(hashlib.sha256(msg).hexdigest(), 16)\n",
        "\n",
        "    def _g(self, x, e ,n):                      # Trapdoor function\n",
        "        q, r = divmod(x, n)\n",
        "        if((q + 1) * n) <= ((1 << self.l) - 1): # Nếu (qi + 1)*ni <= 2^b\n",
        "            result = q * n + pow(r, e, n)       # g(x) = q * n + f(r) với f(x) = x^e mod n\n",
        "        else:\n",
        "            result = x                          # Không thì trả về tham số đầu vào\n",
        "        return result                           # Xem paper mục 3.1"
      ]
    },
    {
      "cell_type": "markdown",
      "metadata": {
        "id": "E0A3FCbnRm--"
      },
      "source": [
        "- Main()"
      ]
    },
    {
      "cell_type": "code",
      "execution_count": null,
      "metadata": {
        "colab": {
          "base_uri": "https://localhost:8080/"
        },
        "id": "FXdgoUAxyarz",
        "outputId": "d6636c1b-c54f-442f-fc77-d231abf10537"
      },
      "outputs": [
        {
          "name": "stdout",
          "output_type": "stream",
          "text": [
            "Executed in:  5.432605743408203 ms\n",
            "Verified in:  0.3573894500732422 ms\n",
            "Valid signature!\n"
          ]
        }
      ],
      "source": [
        "size = 4                                        # Ring size\n",
        "m1 = \"This is a classified meessage\"            # Message to be signed by signer\n",
        "m2 = \"This is not the message he signed\"\n",
        "\n",
        "# generate(key length, randfunc which returns random bytes)\n",
        "def _rn(_):\n",
        "    return Crypto.PublicKey.RSA.generate(1024, os.urandom)          \n",
        "\n",
        "key = map(_rn, range(size))\n",
        "key = list(key)                                  # Ring's public keys\n",
        "\n",
        "r = Ring(key)\n",
        "\n",
        "# Supposedly, we have a ring consists of 4 members named A, B, C, D followed by ID = [0, 1, 2, 3]. Since the anonymity of the signer is protected, only the actual signer themself knows that they signed the message\n",
        "signer = random.randint(0, size)                \n",
        "\n",
        "signature = r.ring_sign(m1, signer)               # Signing message m\n",
        "\n",
        "if(r.ring_verify(m1, signature)):                 # Verify signature c on message m1\n",
        "  print('Valid signature!')\n",
        "else:\n",
        "  print('Invalid signature!')       \n",
        "\n",
        "#assert r.ring_verify(m2, signature), \"Invalid signature!\"               # Verify signature c on message m2\n"
      ]
    },
    {
      "cell_type": "markdown",
      "metadata": {
        "id": "iktuTKFGvkiN"
      },
      "source": [
        "- Output signature"
      ]
    },
    {
      "cell_type": "code",
      "execution_count": null,
      "metadata": {
        "colab": {
          "base_uri": "https://localhost:8080/"
        },
        "id": "g9knMrcXybVK",
        "outputId": "865ab8bf-eb26-42b7-c049-fcd7b7626e45"
      },
      "outputs": [
        {
          "name": "stdout",
          "output_type": "stream",
          "text": [
            "[45602404720944561088275190248842823302607876551047547578053239410566361262685, 43104743072908202708647376912636233216510629903939388910719113530699639688984529079258386410011272391651233888514352047815826486416791635855360320534566728581148769218114077386439690622842440337988891984318865466070704692188172993416477712928133377630261960708874205479684355928219077745236337642258716164649, 5929325741118008273760646712026650201526708235590455893049375505157577866103090653230265601542831858145509412666591343643393645885597801372256908917782583461989286509779693771835575918652445557609982587336576157310301157518006745855469416076244430532392108339799495884301811598984254240041140656698738203579, 20961932793311863871391998156710495022134860781562187243874724295072197662820955645133195418632435454573759357286100527165645539145810357896280554283057714443181799239726210679030129937748623921931738429950981984732415495071758784939257169400537148441472259015770326609439772253581682273392358073240026246265, 20906063837567005774061154715758870149207042492975263413830282746770839839762367089780455735104834851658245695853528448833521076079175413410083869037543349150659318069408896755423577528198504986868324995222256456880588739904732406180611683185024647397575844518867482178661475529769120424196680155572069322610]\n"
          ]
        }
      ],
      "source": [
        "print(signature)"
      ]
    }
  ],
  "metadata": {
    "colab": {
      "provenance": []
    },
    "kernelspec": {
      "display_name": "Python 3",
      "name": "python3"
    },
    "language_info": {
      "name": "python"
    }
  },
  "nbformat": 4,
  "nbformat_minor": 0
}
